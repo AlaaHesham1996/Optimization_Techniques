{
 "cells": [
  {
   "cell_type": "markdown",
   "metadata": {},
   "source": [
    "## Fibonacci "
   ]
  },
  {
   "cell_type": "code",
   "execution_count": 73,
   "metadata": {},
   "outputs": [],
   "source": [
    "import sympy as sym\n",
    "import math\n",
    "import timeit"
   ]
  },
  {
   "cell_type": "code",
   "execution_count": 74,
   "metadata": {},
   "outputs": [],
   "source": [
    "l=sym.Symbol('l')\n"
   ]
  },
  {
   "cell_type": "code",
   "execution_count": 75,
   "metadata": {},
   "outputs": [],
   "source": [
    "n_list=[0,1,2,3,4,5,6,7,8,9,10]\n",
    "f_n_list=[1,1,2,3,5,8,13,21,34,55,89]"
   ]
  },
  {
   "cell_type": "code",
   "execution_count": 76,
   "metadata": {},
   "outputs": [],
   "source": [
    "def calculate_f_n(b,a,epsilon):\n",
    "    f_n=(b-a)/epsilon\n",
    "    return f_n\n",
    "\n",
    "def calculate_n(length_fibonacci_list,f_n):\n",
    "    for i in range(length_fibonacci_list):\n",
    "        if(f_n <=  f_n_list[i] ):\n",
    "                f_n=f_n_list[i]\n",
    "                n=n_list[i]\n",
    "                break\n",
    "    return f_n,n\n",
    "\n",
    "def calculate_r_k(n):\n",
    "    r_k=[]\n",
    "    for k in range (n):\n",
    "        r_k.append(f_n_list[n-k-1]/f_n_list[n-k])\n",
    "    return r_k  \n",
    "\n",
    "def calculate_lambda(b,a,mini,n,r_k):        # In case of minimization set mini flag to 1 , maximization set mini flag to 0\n",
    "    org_a=a\n",
    "    org_b=b\n",
    "    for k  in range (n-1):\n",
    "\n",
    "        d=(b-a)*r_k[k]\n",
    "\n",
    "        x_1=b-d\n",
    "\n",
    "        f_x_1=f_l.evalf(subs={l:x_1})\n",
    "\n",
    "        x_2=a+d  \n",
    "\n",
    "        f_x_2=f_l.evalf(subs={l:x_2})  \n",
    "\n",
    "        check=f_x_2 >= f_x_1\n",
    "\n",
    "        case=check^mini\n",
    "        if (case==False):\n",
    "            a=a \n",
    "            b=x_2\n",
    "\n",
    "        elif (case==True):\n",
    "            print(str(k)+\"I am here \")\n",
    "            a=x_1\n",
    "            b=b\n",
    "        else:\n",
    "\n",
    "            print(\"unhandled case\")\n",
    "            \n",
    "    estimated_lamda=round((b+a)/2,5)\n",
    "    return estimated_lamda,a,b\n",
    "\n",
    "def calculate_percentage_reduction_ratio(org_b,org_a,a,b):\n",
    "    reduction_ratio=round(((b-a)/(org_b-org_a))*100,2)\n",
    "    return reduction_ratio"
   ]
  },
  {
   "cell_type": "code",
   "execution_count": 77,
   "metadata": {},
   "outputs": [],
   "source": [
    "def fiboancci_main(org_b,org_a,epsilon,length_fibonacci_list,mini):\n",
    "    \n",
    "    f_n=calculate_f_n(org_b,org_a,epsilon)\n",
    "    \n",
    "    f_n,n=calculate_n(length_fibonacci_list,f_n)\n",
    "    \n",
    "    r_k=calculate_r_k(n)\n",
    "    \n",
    "    estimated_lamda,a,b=calculate_lambda(org_b,org_a,mini,n,r_k)\n",
    "    \n",
    "    reduction_ratio=calculate_percentage_reduction_ratio(org_b,org_a,a,b)\n",
    "    return estimated_lamda,reduction_ratio,n"
   ]
  },
  {
   "cell_type": "markdown",
   "metadata": {},
   "source": [
    "### Example to be solved using code "
   ]
  },
  {
   "cell_type": "markdown",
   "metadata": {},
   "source": [
    "<img src=\"images/fibonacci.png\">"
   ]
  },
  {
   "cell_type": "markdown",
   "metadata": {},
   "source": [
    "<img src=\"images/fibonacci2.png\">"
   ]
  },
  {
   "cell_type": "markdown",
   "metadata": {},
   "source": []
  },
  {
   "cell_type": "code",
   "execution_count": 78,
   "metadata": {},
   "outputs": [],
   "source": [
    "n_list=[0,1,2,3,4,5,6,7,8,9,10]\n",
    "f_n_list=[1,1,2,3,5,8,13,21,34,55,89]\n",
    "length_fibonacci_list=len(f_n_list)\n",
    "\n"
   ]
  },
  {
   "cell_type": "markdown",
   "metadata": {},
   "source": [
    "## How to test Fibonacci code ?"
   ]
  },
  {
   "cell_type": "code",
   "execution_count": 79,
   "metadata": {},
   "outputs": [],
   "source": [
    "sfTime=timeit.default_timer()\n",
    "\n",
    "f_l=25600*l**4-25600*l**3+6416*l**2-16*l+4 # f(lambda)\n",
    "\n",
    "org_b=0.1                                  # end of region b , org stands for original i.e. b value at the end of region\n",
    "org_a=0                                    # start of region a \n",
    "epsilon=0.01                            \n",
    "       \n",
    "mini=1                                    # mini stands for minimization if problem of type minimization it will equal 1 \n",
    "                                          # if not it will equal to zero \n",
    "estimated_lamda,reduction_ratio,n=fiboancci_main(org_b,org_a,epsilon,length_fibonacci_list,mini)\n",
    "\n",
    "fTime=timeit.default_timer() - sfTime"
   ]
  },
  {
   "cell_type": "markdown",
   "metadata": {},
   "source": [
    "### Analysis "
   ]
  },
  {
   "cell_type": "code",
   "execution_count": 80,
   "metadata": {},
   "outputs": [
    {
     "data": {
      "text/plain": [
       "0.00385"
      ]
     },
     "execution_count": 80,
     "metadata": {},
     "output_type": "execute_result"
    }
   ],
   "source": [
    "estimated_lamda"
   ]
  },
  {
   "cell_type": "code",
   "execution_count": 81,
   "metadata": {},
   "outputs": [
    {
     "data": {
      "text/plain": [
       "7.69"
      ]
     },
     "execution_count": 81,
     "metadata": {},
     "output_type": "execute_result"
    }
   ],
   "source": [
    "reduction_ratio"
   ]
  },
  {
   "cell_type": "code",
   "execution_count": 82,
   "metadata": {},
   "outputs": [],
   "source": [
    "optimal_value=f_l.evalf(subs={l:estimated_lamda})\n"
   ]
  },
  {
   "cell_type": "code",
   "execution_count": 83,
   "metadata": {},
   "outputs": [
    {
     "name": "stdout",
     "output_type": "stream",
     "text": [
      "Fibonacci : Number of iterations 6\n",
      "Fibonacci : Optimal solution /Lambda star 0.00385\n",
      "Fibonacci :  Optimal value 4.03204587888656\n",
      "Fibonacci : CPU Time 0.02207130199894891\n"
     ]
    }
   ],
   "source": [
    "print (\"Fibonacci : Number of iterations\",n)\n",
    "print (\"Fibonacci : Optimal solution /Lambda star\",estimated_lamda)\n",
    "print(\"Fibonacci :  Optimal value\",optimal_value)\n",
    "print (\"Fibonacci : CPU Time\",fTime)"
   ]
  },
  {
   "cell_type": "markdown",
   "metadata": {},
   "source": [
    "## Golden section "
   ]
  },
  {
   "cell_type": "code",
   "execution_count": 84,
   "metadata": {},
   "outputs": [],
   "source": [
    "def golden_calculate_n(b,a,epi):\n",
    "    e=math.log(epi/(b-a),10)\n",
    "    f=math.log(0.618,10)\n",
    "    n=math.ceil((e/f)+1 )\n",
    "    return n "
   ]
  },
  {
   "cell_type": "code",
   "execution_count": 85,
   "metadata": {},
   "outputs": [],
   "source": [
    "\n",
    "def golden_calculate_lambda(b,a,mini,n,r_k=0.618):        # In case of minimization set mini flag to 1 , maximization set mini flag to 0\n",
    "    org_a=a\n",
    "    org_b=b\n",
    "    for k  in range (n-1):\n",
    "\n",
    "        d=(b-a)*r_k\n",
    "\n",
    "        x_1=b-d\n",
    "\n",
    "        f_x_1=f_l.evalf(subs={l:x_1})\n",
    "\n",
    "        x_2=a+d  \n",
    "\n",
    "        f_x_2=f_l.evalf(subs={l:x_2})  \n",
    "\n",
    "        check=f_x_2 >= f_x_1\n",
    "\n",
    "        case=check^mini\n",
    "        if (case==False):\n",
    "            a=a \n",
    "            b=x_2\n",
    "\n",
    "        elif (case==True):\n",
    "            print(str(k)+\"I am here \")\n",
    "            a=x_1\n",
    "            b=b\n",
    "        else:\n",
    "\n",
    "            print(\"unhandled case\")\n",
    "            \n",
    "    estimated_lamda=round((b+a)/2,5)\n",
    "    return estimated_lamda,a,b\n"
   ]
  },
  {
   "cell_type": "code",
   "execution_count": 86,
   "metadata": {},
   "outputs": [],
   "source": [
    "def golden_main(org_b,org_a,epi,mini):\n",
    "    \n",
    "    n=golden_calculate_n(org_b,org_a,epi)\n",
    "    \n",
    "    estimated_lamda,a,b=golden_calculate_lambda(org_b,org_a,mini,n,r_k=0.618)\n",
    "    reduction_ratio=calculate_percentage_reduction_ratio(org_b,org_a,a,b)\n",
    "    return estimated_lamda,reduction_ratio,n"
   ]
  },
  {
   "cell_type": "code",
   "execution_count": 87,
   "metadata": {},
   "outputs": [],
   "source": [
    "golden_startTime=timeit.default_timer() "
   ]
  },
  {
   "cell_type": "markdown",
   "metadata": {},
   "source": [
    "## How to test Golden section code ?"
   ]
  },
  {
   "cell_type": "code",
   "execution_count": 88,
   "metadata": {},
   "outputs": [
    {
     "name": "stdout",
     "output_type": "stream",
     "text": [
      "estimated_lamda  0.00451\n",
      "reduction_ratio   9.01\n"
     ]
    }
   ],
   "source": [
    "\n",
    "f_l=25600*l**4-25600*l**3+6416*l**2-16*l+4\n",
    "org_b=0.1\n",
    "org_a=0\n",
    "epsilon=0.01\n",
    "mini=1\n",
    "estimated_lamda,reduction_ratio,n=golden_main(org_b,org_a,epsilon,mini)\n",
    "print(\"estimated_lamda \",estimated_lamda)\n",
    "print(\"reduction_ratio  \",reduction_ratio)"
   ]
  },
  {
   "cell_type": "code",
   "execution_count": 89,
   "metadata": {},
   "outputs": [],
   "source": [
    "golden_Time=timeit.default_timer() -golden_startTime"
   ]
  },
  {
   "cell_type": "markdown",
   "metadata": {},
   "source": [
    "### Calculations \n"
   ]
  },
  {
   "cell_type": "code",
   "execution_count": 90,
   "metadata": {},
   "outputs": [],
   "source": [
    "optimal_value=f_l.evalf(subs={l:estimated_lamda})"
   ]
  },
  {
   "cell_type": "code",
   "execution_count": 91,
   "metadata": {},
   "outputs": [
    {
     "name": "stdout",
     "output_type": "stream",
     "text": [
      "Golden Number of iterations 6\n",
      "Golden Optimal solution /Lambda star 0.00451\n",
      "Golden Optimal value 4.05600428623790\n",
      "Golden CPU Time 0.2974034020007821\n"
     ]
    }
   ],
   "source": [
    "print (\"Golden Number of iterations\",n)\n",
    "print (\"Golden Optimal solution /Lambda star\",estimated_lamda)\n",
    "print(\"Golden Optimal value\",optimal_value)\n",
    "print (\"Golden CPU Time\",golden_Time)"
   ]
  },
  {
   "cell_type": "markdown",
   "metadata": {},
   "source": [
    "## Quadratic interpolation "
   ]
  },
  {
   "cell_type": "code",
   "execution_count": 92,
   "metadata": {},
   "outputs": [],
   "source": [
    "def calculate_lambda_star_first_refit(fA,fB,fC,t_o):\n",
    "    s_lambdaa=((4*fB-3*fA-fC)/(4*fB-2*fC-2*fA))*t_o\n",
    "    return s_lambdaa \n",
    "def calculate_a_b_c_first_refit(fA,fB,fC,t_o):\n",
    "    a = fA\n",
    "    b = (4*fB - 3*fA - fC)/(2*t_o)\n",
    "    c = (fC + fA - 2*fB)/(2*(t_o)**2)\n",
    "    return a, b,c "
   ]
  },
  {
   "cell_type": "code",
   "execution_count": 93,
   "metadata": {},
   "outputs": [],
   "source": [
    "def first_refit(f1,fA,t_o):\n",
    "    if (f1>fA):\n",
    "\n",
    "        fC=f1\n",
    "\n",
    "        fB=f_l.evalf(subs={l:t_o/2})\n",
    "\n",
    "        t_o=t_o/2\n",
    "\n",
    "        s_lambdaa=calculate_lambda_star_first_refit(fA,fB,fC,t_o)\n",
    "\n",
    "        a,b,c=calculate_a_b_c_first_refit(fA,fB,fC,t_o)\n",
    "        A=0\n",
    "        B=t_o\n",
    "        C=2*t_o\n",
    "    if (f1<=fA) :\n",
    "\n",
    "        fB=f1\n",
    "\n",
    "        f2=f_l.evalf(subs={l:t_o*2})\n",
    "        if (f2>f1):\n",
    "            fC=f2\n",
    "            s_lambdaa=calculate_lambda_star_first_refit(fA,fB,fC,t_o)\n",
    "\n",
    "            a,b,c=calculate_a_b_c_first_refit(fA,fB,fC,t_o)\n",
    "            A=0\n",
    "            B=t_o\n",
    "            C=2*t_o\n",
    "\n",
    "        else :\n",
    "            while (f2<f1):\n",
    "                f1=f2\n",
    "                t_o=2*t_o\n",
    "\n",
    "                if (f1>fA):\n",
    "\n",
    "                    fC=f1\n",
    "\n",
    "                    fB=f_l.evalf(subs={l:t_o/2})\n",
    "\n",
    "                    t_o=t_o/2\n",
    "\n",
    "                    s_lambdaa=calculate_lambda_star_first_refit(fA,fB,fC,t_o)\n",
    "\n",
    "                    a,b,c=calculate_a_b_c_first_refit(fA,fB,fC,t_o)\n",
    "                    break\n",
    "                if (f1<=fA) :\n",
    "\n",
    "                    fB=f1\n",
    "\n",
    "                    f2=f_l.evalf(subs={l:t_o*2})\n",
    "                    if (f2>f1):\n",
    "                        fC=f2\n",
    "                        s_lambdaa=calculate_lambda_star_first_refit(fA,fB,fC,t_o)\n",
    "\n",
    "                        a,b,c=calculate_a_b_c_first_refit(fA,fB,fC,t_o)\n",
    "                        break \n",
    "\n",
    "        A=0\n",
    "        B=t_o\n",
    "        C=2*t_o\n",
    "        \n",
    "        fs_lambdaa=f_l.evalf(subs={l:s_lambdaa}) \n",
    "        \n",
    "        return A,fA,B,fB,C,fC,s_lambdaa,fs_lambdaa,a,b,c  \n",
    "        \n",
    "            \n",
    "                "
   ]
  },
  {
   "cell_type": "code",
   "execution_count": 94,
   "metadata": {},
   "outputs": [],
   "source": [
    "def test_convergence(epi_one,s_lambdaa,a,b,c):\n",
    "    \n",
    "    s_h=a+b*s_lambdaa+c*s_lambdaa**2 # h at lambda star \n",
    "    \n",
    "    s_f=f_l.evalf(subs={l:s_lambdaa})\n",
    "    \n",
    "    ratio =abs ((s_h-s_f)/s_f)\n",
    "    if (ratio <=epi_one ):\n",
    "        acceptable=1\n",
    "    else:\n",
    "        acceptable=0\n",
    "    return acceptable , ratio"
   ]
  },
  {
   "cell_type": "code",
   "execution_count": 95,
   "metadata": {},
   "outputs": [],
   "source": [
    "def calculate_lambda_a_b_c(A,fA,B,fB,C,fC) :\n",
    "    lambdaa = (fA*(B**2-C**2)+fB*(C**2-A**2)+fC*(A**2-B**2))/(2*(fA*(B-C)+fB*(C-A)+fC*(A-B)))\n",
    "    a = (fA*B*C*(C-B)+fB*C*A*(A-C)+fC*A*B*(B-A))/((A-B)*(B-C)*(C-A))\n",
    "    b = (fA*(B**2-C**2)+fB*(C**2-A**2)+fC*(A**2-B**2))/((A-B)*(B-C)*(C-A))\n",
    "    c = -1*(fA*(B-C)+fB*(C-A)+fC*(A-B))/((A-B)*(B-C)*(C-A))\n",
    "    return lambdaa, a, b ,c \n",
    " "
   ]
  },
  {
   "cell_type": "code",
   "execution_count": 96,
   "metadata": {},
   "outputs": [],
   "source": [
    "# lambda here is lambda star in previous refits \n",
    "# f is f_star \n",
    "def additional_refits(A,fA,B,fB,C,fC,lambdaa,f):\n",
    "\n",
    "# Table 5.5 refining scheme from rao \n",
    "        if (lambdaa > B) and (f < fB):\n",
    "            A = B\n",
    "            B = lambdaa\n",
    "            fA = fB\n",
    "            fB = f\n",
    "        if (lambdaa > B) and (f > fB):\n",
    "            C = lambdaa\n",
    "            fC = f\n",
    "        if (lambdaa < B) and (f < fB):\n",
    "            C = B\n",
    "            B = lambdaa\n",
    "            fB = fC\n",
    "            fB = f\n",
    "        if (lambdaa < B) and (f > fB):\n",
    "            A = lambdaa\n",
    "            fA = f\n",
    "        s_lambdaa,a,b,c=calculate_lambda_a_b_c(A,fA,B,fB,C,fC)\n",
    "        \n",
    "        fs_lambdaa=f_l.evalf(subs={l:s_lambdaa})   \n",
    "        \n",
    "        return  A,fA,B,fB,C,fC,s_lambdaa,fs_lambdaa,a,b,c  "
   ]
  },
  {
   "cell_type": "code",
   "execution_count": 97,
   "metadata": {},
   "outputs": [],
   "source": [
    "def quadratic_interpolation_main(f_l,t_o,epi_one):  \n",
    "    \n",
    "    fA=f_l.evalf(subs={l:0})\n",
    "    \n",
    "    f1=f_l.evalf(subs={l:t_o})\n",
    "    \n",
    "    A,fA,B,fB,C,fC,s_lambdaa,fs_lambdaa,a,b,c =first_refit(f1,fA,t_o)\n",
    "    \n",
    "    acceptable , ratio=test_convergence(epi_one,s_lambdaa,a,b,c)\n",
    "    counter=1\n",
    "    if (acceptable ==1):      \n",
    "                      \n",
    "        return s_lambdaa,fs_lambdaa,counter\n",
    "    else :\n",
    "        while (acceptable==0):\n",
    "                  \n",
    "            A,fA,B,fB,C,fC,s_lambdaa,fs_lambdaa,a,b,c  =additional_refits(A,fA,B,fB,C,fC,s_lambdaa,fs_lambdaa)\n",
    "            \n",
    "            acceptable=test_convergence(epi_one,s_lambdaa,a,b,c)\n",
    "            counter=counter+1\n",
    "        return s_lambdaa,fs_lambdaa,counter\n",
    "    "
   ]
  },
  {
   "cell_type": "markdown",
   "metadata": {},
   "source": []
  },
  {
   "cell_type": "markdown",
   "metadata": {},
   "source": [
    "## How to test quadratic interpolation code ?\n"
   ]
  },
  {
   "cell_type": "markdown",
   "metadata": {},
   "source": [
    "<img src=\"images/quadratic_interpolation.png\">"
   ]
  },
  {
   "cell_type": "code",
   "execution_count": 101,
   "metadata": {},
   "outputs": [
    {
     "data": {
      "text/plain": [
       "(1.65845810225057, -38.4304704180808, 2)"
      ]
     },
     "execution_count": 101,
     "metadata": {},
     "output_type": "execute_result"
    }
   ],
   "source": [
    "l=sym.Symbol('l')\n",
    "f_l=l**5-5*l**3-20*l+5\n",
    "t_o=0.5\n",
    "quadratic_interpolation_main(f_l,t_o,1)"
   ]
  },
  {
   "cell_type": "markdown",
   "metadata": {},
   "source": [
    "#### This means lambda star equals 1.658 , f_val=-38.43, number of iterations =2"
   ]
  },
  {
   "cell_type": "markdown",
   "metadata": {},
   "source": [
    "### How to test quadratic interpolation "
   ]
  },
  {
   "cell_type": "code",
   "execution_count": 102,
   "metadata": {},
   "outputs": [],
   "source": [
    "q_I_startTime=timeit.default_timer() \n",
    "\n",
    "f_l=25600*l**4-25600*l**3+6416*l**2-16*l+4\n",
    "t_o = 0.001\n",
    "s_lambdaa,fs_lambdaa,counter=quadratic_interpolation_main(f_l,t_o,1)\n",
    "\n",
    "    \n",
    "q_I_time =timeit.default_timer()- q_I_startTime"
   ]
  },
  {
   "cell_type": "markdown",
   "metadata": {},
   "source": [
    "### This means lambda star equals 0.001258 , f_val=3.98997, number of iterations =1\n"
   ]
  },
  {
   "cell_type": "code",
   "execution_count": 103,
   "metadata": {},
   "outputs": [
    {
     "name": "stdout",
     "output_type": "stream",
     "text": [
      "Quadratic interpolation : Number of iterations 1\n",
      "Quadratic interpolation : Optimal solution /Lambda star 0.00125792708535247\n",
      "Quadratic interpolation :  Optimal value 3.98997482706145\n",
      "Quadratic interpolation : CPU Time 0.0046636689985462\n"
     ]
    }
   ],
   "source": [
    "print (\"Quadratic interpolation : Number of iterations\",counter)\n",
    "print (\"Quadratic interpolation : Optimal solution /Lambda star\",s_lambdaa)\n",
    "print(\"Quadratic interpolation :  Optimal value\",fs_lambdaa)\n",
    "print (\"Quadratic interpolation : CPU Time\",q_I_time)"
   ]
  },
  {
   "cell_type": "code",
   "execution_count": null,
   "metadata": {},
   "outputs": [],
   "source": []
  }
 ],
 "metadata": {
  "kernelspec": {
   "display_name": "Python 3",
   "language": "python",
   "name": "python3"
  },
  "language_info": {
   "codemirror_mode": {
    "name": "ipython",
    "version": 3
   },
   "file_extension": ".py",
   "mimetype": "text/x-python",
   "name": "python",
   "nbconvert_exporter": "python",
   "pygments_lexer": "ipython3",
   "version": "3.7.1"
  }
 },
 "nbformat": 4,
 "nbformat_minor": 2
}
